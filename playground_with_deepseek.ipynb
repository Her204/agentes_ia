{
 "cells": [
  {
   "cell_type": "markdown",
   "metadata": {},
   "source": [
    "# Gravitational Interaction Between Two Masses\n",
    "\n",
    "This notebook explores the gravitational interaction between two masses using a Python class. The explanations are provided with LaTeX formatting for clarity."
   ]
  },
  {
   "cell_type": "markdown",
   "metadata": {},
   "source": [
    "## Gravitational Interaction Class\n",
    "\n",
    "We define a class `GravitationalInteraction` to calculate various parameters of the gravitational interaction between two masses, assuming circular orbits.\n",
    "\n",
    "- **Attributes:**\n",
    "  - \\( G \\): Gravitational constant (\\( 6.67430 \\times 10^{-11} \\, \\text{m}^3 \\, \\text{kg}^{-1} \\, \\text{s}^{-2} \\))\n",
    "  - \\( M \\): Mass of the first object (e.g., the Sun) in kilograms.\n",
    "  - \\( m \\): Mass of the second object (e.g., the Earth) in kilograms.\n",
    "  - \\( r \\): Distance between the centers of the two masses in meters.\n",
    "\n",
    "- **Methods:**\n",
    "  - **Orbital Speed:**\n",
    "    \\[\n",
    "    v = \\sqrt{\\frac{G (M + m)}{r}}\n",
    "    \\]\n",
    "  - **Orbital Period:**\n",
    "    \\[\n",
    "    T = \\frac{2 \\pi r}{v}\n",
    "    \\]\n",
    "  - **Gravitational Force:**\n",
    "    \\[\n",
    "    F = \\frac{G M m}{r^2}\n",
    "    \\]\n",
    "  - **Orbital Energy:**\n",
    "    \\[\n",
    "    E = -\\frac{G M m}{2 r}\n",
    "    \\]\n",
    "  - **Escape Velocity:**\n",
    "    \\[\n",
    "    v_{\\text{esc}} = \\sqrt{\\frac{2 G (M + m)}{r}}\n",
    "    \\]\n",
    "  - **Gravitational Acceleration:**\n",
    "    \\[\n",
    "    a = \\frac{G (M + m)}{r^2}\n",
    "    \\]\n",
    "  - **Angular Velocity:**\n",
    "    \\[\n",
    "    \\omega = \\frac{v}{r}\n",
    "    \\]\n",
    "    "
   ]
  },
  {
   "cell_type": "code",
   "execution_count": 2,
   "metadata": {},
   "outputs": [],
   "source": [
    "import math\n",
    "\n",
    "class GravitationalInteraction:\n",
    "    def __init__(self, M, m, r):\n",
    "        self.G = 6.67430e-11  # gravitational constant in m^3 kg^-1 s^-2\n",
    "        self.M = M  # mass of the first object in kg\n",
    "        self.m = m  # mass of the second object in kg\n",
    "        self.r = r  # distance between centers in meters\n",
    "        if M <= 0 or m <= 0 or r <= 0:\n",
    "            raise ValueError(\"Masses and distance must be positive values.\")\n",
    "\n",
    "    def orbital_speed(self):\n",
    "        # v = sqrt(G (M + m) / r)\n",
    "        return math.sqrt(self.G * (self.M + self.m) / self.r)\n",
    "\n",
    "    def orbital_period(self):\n",
    "        v = self.orbital_speed()\n",
    "        return (2 * math.pi * self.r) / v\n",
    "\n",
    "    def gravitational_force(self):\n",
    "        return self.G * self.M * self.m / (self.r ** 2)\n",
    "\n",
    "    def orbital_energy(self):\n",
    "        return -self.G * self.M * self.m / (2 * self.r)\n",
    "\n",
    "    def escape_velocity(self):\n",
    "        return math.sqrt(2 * self.G * (self.M + self.m) / self.r)\n",
    "\n",
    "    def gravitational_acceleration(self):\n",
    "        return self.G * (self.M + self.m) / (self.r ** 2)\n",
    "\n",
    "    def angular_velocity(self):\n",
    "        v = self.orbital_speed()\n",
    "        return v / self.r\n",
    "\n",
    "    def display_all(self):\n",
    "        print(\"Orbital Speed: {:.2f} m/s\".format(self.orbital_speed()))\n",
    "        print(\"Orbital Period: {:.2e} seconds\".format(self.orbital_period()))\n",
    "        print(\"Gravitational Force: {:.2e} N\".format(self.gravitational_force()))\n",
    "        print(\"Orbital Energy: {:.2e} J\".format(self.orbital_energy()))\n",
    "        print(\"Escape Velocity: {:.2f} m/s\".format(self.escape_velocity()))\n",
    "        print(\"Gravitational Acceleration: {:.4f} m/s²\".format(self.gravitational_acceleration()))\n",
    "        print(\"Angular Velocity: {:.4e} rad/s\".format(self.angular_velocity()))"
   ]
  },
  {
   "cell_type": "markdown",
   "metadata": {},
   "source": [
    "## Example Usage\n",
    "\n",
    "Let's use the class to calculate the gravitational parameters for the Earth-Sun system.\n"
   ]
  },
  {
   "cell_type": "code",
   "execution_count": 3,
   "metadata": {},
   "outputs": [
    {
     "name": "stdout",
     "output_type": "stream",
     "text": [
      "Orbital Speed: 29785.41 m/s\n",
      "Orbital Period: 3.16e+07 seconds\n",
      "Gravitational Force: 3.54e+22 N\n",
      "Orbital Energy: -2.65e+33 J\n",
      "Escape Velocity: 42122.93 m/s\n",
      "Gravitational Acceleration: 0.0059 m/s²\n",
      "Angular Velocity: 1.9910e-07 rad/s\n"
     ]
    }
   ],
   "source": [
    "# Example usage:\n",
    "# Define masses in kg and distance in meters\n",
    "M_sun = 1.9885e30  # Mass of the Sun\n",
    "m_earth = 5.972e24  # Mass of the Earth\n",
    "r_earth = 1.495978707e11  # Average distance between Sun and Earth (1 AU)\n",
    "\n",
    "# Create an instance of GravitationalInteraction\n",
    "gi = GravitationalInteraction(M_sun, m_earth, r_earth)\n",
    "\n",
    "# Display all parameters\n",
    "gi.display_all()"
   ]
  },
  {
   "cell_type": "markdown",
   "metadata": {},
   "source": [
    "## Output Explanation\n",
    "\n",
    "The output provides the orbital speed, period, gravitational force, orbital energy, escape velocity, gravitational acceleration, and angular velocity for the Earth-Sun system.\n"
   ]
  }
 ],
 "metadata": {
  "kernelspec": {
   "display_name": "jupyter_venv",
   "language": "python",
   "name": "python3"
  },
  "language_info": {
   "codemirror_mode": {
    "name": "ipython",
    "version": 3
   },
   "file_extension": ".py",
   "mimetype": "text/x-python",
   "name": "python",
   "nbconvert_exporter": "python",
   "pygments_lexer": "ipython3",
   "version": "3.11.2"
  }
 },
 "nbformat": 4,
 "nbformat_minor": 2
}
